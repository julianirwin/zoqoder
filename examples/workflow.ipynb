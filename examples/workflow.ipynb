{
 "cells": [
  {
   "cell_type": "code",
   "execution_count": null,
   "metadata": {},
   "outputs": [],
   "source": [
    "import zoqoder as zq\n",
    "from secrets_zotero import api_key"
   ]
  },
  {
   "cell_type": "code",
   "execution_count": null,
   "metadata": {},
   "outputs": [],
   "source": [
    "library_id = 5374742\n",
    "library_type = \"group\"\n",
    "\n",
    "# Better to use one or the other not both because there is and/or ambiguity\n",
    "tags_filter = [] # [\"tag1\", \"tag2\"]\n",
    "collections_filter = [\"Collection1\"] # [\"collection1\", \"collection2\"]\n",
    "\n",
    "document_fields = (\n",
    "    \"key\",\n",
    "    \"date\",\n",
    "    \"creatorSummary\",\n",
    "    # \"title\",\n",
    "    # \"publicationTitle\",\n",
    ")\n",
    "\n",
    "annotation_fields = (\n",
    "    # \"key\",\n",
    "    \"annotationText\",\n",
    "    # \"annotationComment\",\n",
    "    # \"annotationColor\",\n",
    "    # \"tags\",\n",
    ")"
   ]
  },
  {
   "cell_type": "code",
   "execution_count": null,
   "metadata": {},
   "outputs": [],
   "source": [
    "zotero = zq.zotero_connect(api_key=api_key, library_id=library_id, library_type=library_type)"
   ]
  },
  {
   "cell_type": "code",
   "execution_count": null,
   "metadata": {},
   "outputs": [],
   "source": [
    "annotations = zq.selected_annotations(zotero, tags=tags_filter, collections=collections_filter)\n",
    "\n",
    "print(\"Annotations found: {}\".format(len(annotations)))"
   ]
  },
  {
   "cell_type": "code",
   "execution_count": null,
   "metadata": {},
   "outputs": [],
   "source": [
    "df = zq.tabulate_coding_summary_dataframe(\n",
    "    zotero, annotations, document_fields=document_fields, annotation_fields=annotation_fields\n",
    ")\n",
    "df"
   ]
  }
 ],
 "metadata": {
  "kernelspec": {
   "display_name": "Python 3",
   "language": "python",
   "name": "python3"
  },
  "language_info": {
   "codemirror_mode": {
    "name": "ipython",
    "version": 3
   },
   "file_extension": ".py",
   "mimetype": "text/x-python",
   "name": "python",
   "nbconvert_exporter": "python",
   "pygments_lexer": "ipython3",
   "version": "3.11.5"
  }
 },
 "nbformat": 4,
 "nbformat_minor": 2
}
