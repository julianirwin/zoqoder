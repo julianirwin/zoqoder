{
 "cells": [
  {
   "cell_type": "code",
   "execution_count": 1,
   "metadata": {},
   "outputs": [],
   "source": [
    "import zoqoder as zq\n",
    "from secrets_zotero import api_key"
   ]
  },
  {
   "cell_type": "code",
   "execution_count": 2,
   "metadata": {},
   "outputs": [],
   "source": [
    "library_id = 5374742\n",
    "library_type = \"group\"\n",
    "\n",
    "# Better to use one or the other not both because there is and/or ambiguity\n",
    "tags_filter = [] # [\"tag1\", \"tag2\"]\n",
    "collections_filter = [\"Collection1\"] # [\"collection1\", \"collection2\"]\n",
    "\n",
    "document_fields = (\n",
    "    \"key\",\n",
    "    \"date\",\n",
    "    \"creatorSummary\",\n",
    "    # \"title\",\n",
    "    # \"publicationTitle\",\n",
    ")\n",
    "\n",
    "annotation_fields = (\n",
    "    # \"key\",\n",
    "    \"annotationText\",\n",
    "    # \"annotationComment\",\n",
    "    # \"annotationColor\",\n",
    "    # \"tags\",\n",
    ")"
   ]
  },
  {
   "cell_type": "code",
   "execution_count": 3,
   "metadata": {},
   "outputs": [],
   "source": [
    "zotero = zq.zotero_connect(api_key=api_key, library_id=library_id, library_type=library_type)"
   ]
  },
  {
   "cell_type": "code",
   "execution_count": 4,
   "metadata": {},
   "outputs": [
    {
     "name": "stdout",
     "output_type": "stream",
     "text": [
      "Annotations found: 7\n"
     ]
    }
   ],
   "source": [
    "annotations = zq.selected_annotations(zotero, tags=tags_filter, collections=collections_filter)\n",
    "\n",
    "print(\"Annotations found: {}\".format(len(annotations)))"
   ]
  },
  {
   "cell_type": "code",
   "execution_count": 5,
   "metadata": {},
   "outputs": [
    {
     "data": {
      "text/html": [
       "<div>\n",
       "<style scoped>\n",
       "    .dataframe tbody tr th:only-of-type {\n",
       "        vertical-align: middle;\n",
       "    }\n",
       "\n",
       "    .dataframe tbody tr th {\n",
       "        vertical-align: top;\n",
       "    }\n",
       "\n",
       "    .dataframe thead th {\n",
       "        text-align: right;\n",
       "    }\n",
       "</style>\n",
       "<table border=\"1\" class=\"dataframe\">\n",
       "  <thead>\n",
       "    <tr style=\"text-align: right;\">\n",
       "      <th></th>\n",
       "      <th>key</th>\n",
       "      <th>date</th>\n",
       "      <th>creatorSummary</th>\n",
       "      <th>cat-1</th>\n",
       "      <th>cat-2</th>\n",
       "    </tr>\n",
       "  </thead>\n",
       "  <tbody>\n",
       "    <tr>\n",
       "      <th>0</th>\n",
       "      <td>LGIJZVXC</td>\n",
       "      <td>2024-01-09</td>\n",
       "      <td>Fritzsche et al.</td>\n",
       "      <td>[Bender, quantum]</td>\n",
       "      <td>[potentials, recent]</td>\n",
       "    </tr>\n",
       "    <tr>\n",
       "      <th>1</th>\n",
       "      <td>42MPM83Y</td>\n",
       "      <td>2024-01-09</td>\n",
       "      <td>Slobodkin et al.</td>\n",
       "      <td>[water, Green]</td>\n",
       "      <td>[system]</td>\n",
       "    </tr>\n",
       "  </tbody>\n",
       "</table>\n",
       "</div>"
      ],
      "text/plain": [
       "        key        date    creatorSummary              cat-1  \\\n",
       "0  LGIJZVXC  2024-01-09  Fritzsche et al.  [Bender, quantum]   \n",
       "1  42MPM83Y  2024-01-09  Slobodkin et al.     [water, Green]   \n",
       "\n",
       "                  cat-2  \n",
       "0  [potentials, recent]  \n",
       "1              [system]  "
      ]
     },
     "execution_count": 5,
     "metadata": {},
     "output_type": "execute_result"
    }
   ],
   "source": [
    "df = zq.tabulate_coding_summary_dataframe(\n",
    "    zotero, annotations, document_fields=document_fields, annotation_fields=annotation_fields\n",
    ")\n",
    "df"
   ]
  }
 ],
 "metadata": {
  "kernelspec": {
   "display_name": "Python 3",
   "language": "python",
   "name": "python3"
  },
  "language_info": {
   "codemirror_mode": {
    "name": "ipython",
    "version": 3
   },
   "file_extension": ".py",
   "mimetype": "text/x-python",
   "name": "python",
   "nbconvert_exporter": "python",
   "pygments_lexer": "ipython3",
   "version": "3.11.5"
  }
 },
 "nbformat": 4,
 "nbformat_minor": 2
}
