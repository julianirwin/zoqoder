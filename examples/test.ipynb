{
 "cells": [
  {
   "cell_type": "code",
   "execution_count": 1,
   "metadata": {},
   "outputs": [],
   "source": [
    "%load_ext autoreload\n",
    "%autoreload 2"
   ]
  },
  {
   "cell_type": "code",
   "execution_count": 2,
   "metadata": {},
   "outputs": [],
   "source": [
    "import zoqoder as zq\n",
    "from secrets_zotero import api_key\n",
    "import pandas as pd\n",
    "\n",
    "library_id = 5374742\n",
    "library_type = \"group\""
   ]
  },
  {
   "cell_type": "code",
   "execution_count": 3,
   "metadata": {},
   "outputs": [],
   "source": [
    "zotero = zq.zotero_connect(api_key, library_id, library_type)"
   ]
  },
  {
   "cell_type": "code",
   "execution_count": 4,
   "metadata": {},
   "outputs": [
    {
     "data": {
      "text/plain": [
       "{'key': 'MRNQCX2Y',\n",
       " 'version': 54,\n",
       " 'itemType': 'journalArticle',\n",
       " 'title': 'Shallow defects and variable photoluminescence decay times up to 280 µs in triple-cation perovskites',\n",
       " 'creators': [{'creatorType': 'author', 'firstName': 'Ye', 'lastName': 'Yuan'},\n",
       "  {'creatorType': 'author', 'firstName': 'Genghua', 'lastName': 'Yan'},\n",
       "  {'creatorType': 'author', 'firstName': 'Chris', 'lastName': 'Dreessen'},\n",
       "  {'creatorType': 'author', 'firstName': 'Toby', 'lastName': 'Rudolph'},\n",
       "  {'creatorType': 'author', 'firstName': 'Markus', 'lastName': 'Hülsbeck'},\n",
       "  {'creatorType': 'author', 'firstName': 'Benjamin', 'lastName': 'Klingebiel'},\n",
       "  {'creatorType': 'author', 'firstName': 'Jiajiu', 'lastName': 'Ye'},\n",
       "  {'creatorType': 'author', 'firstName': 'Uwe', 'lastName': 'Rau'},\n",
       "  {'creatorType': 'author', 'firstName': 'Thomas', 'lastName': 'Kirchartz'}],\n",
       " 'abstractNote': 'Abstract\\n            Quantifying recombination in halide perovskites is a crucial prerequisite to control and improve the performance of perovskite-based solar cells. While both steady-state and transient photoluminescence are frequently used to assess recombination in perovskite absorbers, quantitative analyses within a consistent model are seldom reported. We use transient photoluminescence measurements with a large dynamic range of more than ten orders of magnitude on triple-cation perovskite films showing long-lived photoluminescence transients featuring continuously changing decay times that range from tens of nanoseconds to hundreds of microseconds. We quantitatively explain both the transient and steady-state photoluminescence with the presence of a high density of shallow defects and consequent high rates of charge carrier trapping, thereby showing that deep defects do not affect the recombination dynamics. The complex carrier kinetics caused by emission and recombination processes via shallow defects imply that the reporting of only single lifetime values, as is routinely done in the literature, is meaningless for such materials. We show that the features indicative for shallow defects seen in the bare films remain dominant in finished devices and are therefore also crucial to understanding the performance of perovskite solar cells.',\n",
       " 'publicationTitle': 'Nature Materials',\n",
       " 'volume': '',\n",
       " 'issue': '',\n",
       " 'pages': '',\n",
       " 'date': '2024-01-09',\n",
       " 'series': '',\n",
       " 'seriesTitle': '',\n",
       " 'seriesText': '',\n",
       " 'journalAbbreviation': 'Nat. Mater.',\n",
       " 'language': 'en',\n",
       " 'DOI': '10.1038/s41563-023-01771-2',\n",
       " 'ISSN': '1476-1122, 1476-4660',\n",
       " 'shortTitle': '',\n",
       " 'url': 'https://www.nature.com/articles/s41563-023-01771-2',\n",
       " 'accessDate': '2024-01-27T21:03:30Z',\n",
       " 'archive': '',\n",
       " 'archiveLocation': '',\n",
       " 'libraryCatalog': 'DOI.org (Crossref)',\n",
       " 'callNumber': '',\n",
       " 'rights': '',\n",
       " 'extra': '',\n",
       " 'tags': [{'tag': 'tag1'}],\n",
       " 'collections': ['KE7LP677'],\n",
       " 'relations': {},\n",
       " 'dateAdded': '2024-01-27T21:03:30Z',\n",
       " 'dateModified': '2024-01-28T21:31:12Z'}"
      ]
     },
     "execution_count": 4,
     "metadata": {},
     "output_type": "execute_result"
    }
   ],
   "source": [
    "zotero.items(itemKey=\"MRNQCX2Y\")[0][\"data\"]"
   ]
  },
  {
   "cell_type": "code",
   "execution_count": 12,
   "metadata": {},
   "outputs": [
    {
     "data": {
      "text/plain": [
       "7"
      ]
     },
     "execution_count": 12,
     "metadata": {},
     "output_type": "execute_result"
    }
   ],
   "source": [
    "# len(list(zq.selected_annotations(zotero, collections=[\"Collection2\"])))\n",
    "len(list(zq.selected_annotations(zotero, tags=[\"tag1\"])))"
   ]
  },
  {
   "cell_type": "code",
   "execution_count": null,
   "metadata": {},
   "outputs": [],
   "source": [
    "# all_annotations = []\n",
    "# %store -r all_annotations\n",
    "all_annotations = zq.all_annotations(zotero)\n",
    "# %store all_annotations"
   ]
  },
  {
   "cell_type": "code",
   "execution_count": null,
   "metadata": {},
   "outputs": [],
   "source": [
    "all_annotations"
   ]
  },
  {
   "cell_type": "code",
   "execution_count": null,
   "metadata": {},
   "outputs": [],
   "source": [
    "zotero.collections()"
   ]
  },
  {
   "cell_type": "code",
   "execution_count": null,
   "metadata": {},
   "outputs": [],
   "source": [
    "zq.items_unique_tags(all_annotations)"
   ]
  },
  {
   "cell_type": "code",
   "execution_count": null,
   "metadata": {},
   "outputs": [],
   "source": [
    "zq.annotation_keys_by_document(zotero, all_annotations)"
   ]
  },
  {
   "cell_type": "code",
   "execution_count": null,
   "metadata": {},
   "outputs": [],
   "source": [
    "zq.group_annotation_keys_by_document(zotero, all_annotations)"
   ]
  },
  {
   "cell_type": "code",
   "execution_count": null,
   "metadata": {},
   "outputs": [],
   "source": [
    "zq.tabulate_coding_summary_by_key(zotero, annotation_items=all_annotations)"
   ]
  },
  {
   "cell_type": "code",
   "execution_count": null,
   "metadata": {},
   "outputs": [],
   "source": [
    "document_fields = (\n",
    "    \"key\",\n",
    "    \"date\",\n",
    "    \"creatorSummary\",\n",
    "    # \"title\",\n",
    "    # \"publicationTitle\",\n",
    ")\n",
    "\n",
    "annotation_fields = (\n",
    "    # \"key\",\n",
    "    \"annotationText\",\n",
    "    # \"annotationComment\",\n",
    "    # \"annotationColor\",\n",
    "    # \"tags\",\n",
    ")"
   ]
  },
  {
   "cell_type": "code",
   "execution_count": null,
   "metadata": {},
   "outputs": [],
   "source": [
    "table = zq.tabulate_coding_summary(\n",
    "    zotero, all_annotations, document_fields=document_fields, annotation_fields=annotation_fields\n",
    ")\n",
    "table"
   ]
  },
  {
   "cell_type": "code",
   "execution_count": null,
   "metadata": {},
   "outputs": [],
   "source": [
    "df = zq.tabulate_coding_summary_dataframe(\n",
    "    zotero, all_annotations, document_fields=document_fields, annotation_fields=annotation_fields\n",
    ")\n",
    "df"
   ]
  }
 ],
 "metadata": {
  "kernelspec": {
   "display_name": "Python 3",
   "language": "python",
   "name": "python3"
  },
  "language_info": {
   "codemirror_mode": {
    "name": "ipython",
    "version": 3
   },
   "file_extension": ".py",
   "mimetype": "text/x-python",
   "name": "python",
   "nbconvert_exporter": "python",
   "pygments_lexer": "ipython3",
   "version": "3.11.5"
  }
 },
 "nbformat": 4,
 "nbformat_minor": 2
}
