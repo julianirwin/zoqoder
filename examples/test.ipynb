{
 "cells": [
  {
   "cell_type": "code",
   "execution_count": 1,
   "metadata": {},
   "outputs": [],
   "source": [
    "%load_ext autoreload\n",
    "%autoreload 2"
   ]
  },
  {
   "cell_type": "code",
   "execution_count": 2,
   "metadata": {},
   "outputs": [],
   "source": [
    "import zoqoder as zq\n",
    "from secrets_zotero import api_key\n",
    "import pandas as pd\n",
    "\n",
    "library_id = 5374742\n",
    "library_type = \"group\""
   ]
  },
  {
   "cell_type": "code",
   "execution_count": 3,
   "metadata": {},
   "outputs": [],
   "source": [
    "zotero = zq.zotero_connect(api_key, library_id, library_type)"
   ]
  },
  {
   "cell_type": "code",
   "execution_count": 4,
   "metadata": {},
   "outputs": [],
   "source": [
    "# zotero.items()"
   ]
  },
  {
   "cell_type": "code",
   "execution_count": 24,
   "metadata": {},
   "outputs": [
    {
     "data": {
      "text/plain": [
       "7"
      ]
     },
     "execution_count": 24,
     "metadata": {},
     "output_type": "execute_result"
    }
   ],
   "source": [
    "len(list(zq.selected_annotations(zotero, collections=[\"Collection1\"], tags=[\"tag1\"])))\n",
    "# len(list(zq.selected_annotations(zotero, tags=[\"tag1\"])))"
   ]
  },
  {
   "cell_type": "code",
   "execution_count": null,
   "metadata": {},
   "outputs": [],
   "source": [
    "# all_annotations = []\n",
    "# %store -r all_annotations\n",
    "all_annotations = zq.all_annotations(zotero)\n",
    "# %store all_annotations"
   ]
  },
  {
   "cell_type": "code",
   "execution_count": null,
   "metadata": {},
   "outputs": [],
   "source": [
    "all_annotations"
   ]
  },
  {
   "cell_type": "code",
   "execution_count": null,
   "metadata": {},
   "outputs": [],
   "source": [
    "zotero.collections()"
   ]
  },
  {
   "cell_type": "code",
   "execution_count": null,
   "metadata": {},
   "outputs": [],
   "source": [
    "zq.items_unique_tags(all_annotations)"
   ]
  },
  {
   "cell_type": "code",
   "execution_count": null,
   "metadata": {},
   "outputs": [],
   "source": [
    "zq.annotation_keys_by_document(zotero, all_annotations)"
   ]
  },
  {
   "cell_type": "code",
   "execution_count": null,
   "metadata": {},
   "outputs": [],
   "source": [
    "zq.group_annotation_keys_by_document(zotero, all_annotations)"
   ]
  },
  {
   "cell_type": "code",
   "execution_count": null,
   "metadata": {},
   "outputs": [],
   "source": [
    "zq.tabulate_coding_summary_by_key(zotero, annotation_items=all_annotations)"
   ]
  },
  {
   "cell_type": "code",
   "execution_count": null,
   "metadata": {},
   "outputs": [],
   "source": [
    "document_fields = (\n",
    "    \"key\",\n",
    "    \"date\",\n",
    "    \"creatorSummary\",\n",
    "    # \"title\",\n",
    "    # \"publicationTitle\",\n",
    ")\n",
    "\n",
    "annotation_fields = (\n",
    "    # \"key\",\n",
    "    \"annotationText\",\n",
    "    # \"annotationComment\",\n",
    "    # \"annotationColor\",\n",
    "    # \"tags\",\n",
    ")"
   ]
  },
  {
   "cell_type": "code",
   "execution_count": null,
   "metadata": {},
   "outputs": [],
   "source": [
    "table = zq.tabulate_coding_summary(\n",
    "    zotero, all_annotations, document_fields=document_fields, annotation_fields=annotation_fields\n",
    ")\n",
    "table"
   ]
  },
  {
   "cell_type": "code",
   "execution_count": null,
   "metadata": {},
   "outputs": [],
   "source": [
    "df = zq.tabulate_coding_summary_dataframe(\n",
    "    zotero, all_annotations, document_fields=document_fields, annotation_fields=annotation_fields\n",
    ")\n",
    "df"
   ]
  }
 ],
 "metadata": {
  "kernelspec": {
   "display_name": "Python 3",
   "language": "python",
   "name": "python3"
  },
  "language_info": {
   "codemirror_mode": {
    "name": "ipython",
    "version": 3
   },
   "file_extension": ".py",
   "mimetype": "text/x-python",
   "name": "python",
   "nbconvert_exporter": "python",
   "pygments_lexer": "ipython3",
   "version": "3.11.5"
  }
 },
 "nbformat": 4,
 "nbformat_minor": 2
}
