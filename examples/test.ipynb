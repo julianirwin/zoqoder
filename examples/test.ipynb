{
 "cells": [
  {
   "cell_type": "code",
   "execution_count": 1,
   "metadata": {},
   "outputs": [],
   "source": [
    "%load_ext autoreload\n",
    "%autoreload 2"
   ]
  },
  {
   "cell_type": "code",
   "execution_count": 2,
   "metadata": {},
   "outputs": [],
   "source": [
    "import zoqoder as zq\n",
    "from secrets_zotero import api_key\n",
    "import pandas as pd\n",
    "\n",
    "library_id = 5374742\n",
    "library_type = \"group\""
   ]
  },
  {
   "cell_type": "code",
   "execution_count": 3,
   "metadata": {},
   "outputs": [],
   "source": [
    "zotero = zq.zotero_connect(api_key, library_id, library_type)"
   ]
  },
  {
   "cell_type": "code",
   "execution_count": 4,
   "metadata": {},
   "outputs": [],
   "source": [
    "# all_annotations = []\n",
    "# %store -r all_annotations\n",
    "all_annotations = zq.all_highlights(zotero)\n",
    "# %store all_annotations"
   ]
  },
  {
   "cell_type": "code",
   "execution_count": 5,
   "metadata": {},
   "outputs": [
    {
     "data": {
      "text/plain": [
       "{'cat-1', 'cat-2'}"
      ]
     },
     "execution_count": 5,
     "metadata": {},
     "output_type": "execute_result"
    }
   ],
   "source": [
    "zq.items_unique_tags(all_annotations)"
   ]
  },
  {
   "cell_type": "code",
   "execution_count": 13,
   "metadata": {},
   "outputs": [
    {
     "data": {
      "text/plain": [
       "[('LGIJZVXC', 'NVMH677F'),\n",
       " ('LGIJZVXC', '2DDGTKYZ'),\n",
       " ('LGIJZVXC', 'KQR5WWI5'),\n",
       " ('LGIJZVXC', 'QFZNF7GB'),\n",
       " ('42MPM83Y', 'S9MU2YJP'),\n",
       " ('42MPM83Y', 'V7CMQPU4'),\n",
       " ('42MPM83Y', 'S7P7YPMZ')]"
      ]
     },
     "execution_count": 13,
     "metadata": {},
     "output_type": "execute_result"
    }
   ],
   "source": [
    "zq.annotation_keys_by_document(zotero, all_annotations)"
   ]
  },
  {
   "cell_type": "code",
   "execution_count": 7,
   "metadata": {},
   "outputs": [
    {
     "data": {
      "text/plain": [
       "defaultdict(<function zoqoder.zoqoder.group_annotation_keys_by_document.<locals>.<lambda>()>,\n",
       "            {'LGIJZVXC': ['NVMH677F', '2DDGTKYZ', 'KQR5WWI5', 'QFZNF7GB'],\n",
       "             '42MPM83Y': ['S9MU2YJP', 'V7CMQPU4', 'S7P7YPMZ']})"
      ]
     },
     "execution_count": 7,
     "metadata": {},
     "output_type": "execute_result"
    }
   ],
   "source": [
    "zq.group_annotation_keys_by_document(zotero, all_annotations)"
   ]
  },
  {
   "cell_type": "code",
   "execution_count": 15,
   "metadata": {},
   "outputs": [
    {
     "data": {
      "text/plain": [
       "defaultdict(<function zoqoder.zoqoder.tabulate_coding_summary_by_key.<locals>.<lambda>()>,\n",
       "            {'LGIJZVXC': {'cat-1': ['KQR5WWI5', 'QFZNF7GB'],\n",
       "              'cat-2': ['NVMH677F', '2DDGTKYZ']},\n",
       "             '42MPM83Y': {'cat-1': ['S9MU2YJP', 'V7CMQPU4'],\n",
       "              'cat-2': ['S7P7YPMZ']}})"
      ]
     },
     "execution_count": 15,
     "metadata": {},
     "output_type": "execute_result"
    }
   ],
   "source": [
    "zq.tabulate_coding_summary_by_key(zotero, annotation_items=all_annotations)"
   ]
  },
  {
   "cell_type": "code",
   "execution_count": 22,
   "metadata": {},
   "outputs": [],
   "source": [
    "document_fields = (\n",
    "    \"key\",\n",
    "    \"date\",\n",
    "    \"creatorSummary\",\n",
    "    # \"title\",\n",
    "    # \"publicationTitle\",\n",
    ")\n",
    "\n",
    "annotation_fields = (\n",
    "    # \"key\",\n",
    "    \"annotationText\",\n",
    "    # \"annotationComment\",\n",
    "    # \"annotationColor\",\n",
    "    # \"tags\",\n",
    ")"
   ]
  },
  {
   "cell_type": "code",
   "execution_count": 23,
   "metadata": {},
   "outputs": [
    {
     "data": {
      "text/plain": [
       "[{'key': 'LGIJZVXC',\n",
       "  'date': '2024-01-09',\n",
       "  'creatorSummary': 'Fritzsche et al.',\n",
       "  'cat-1': ['Bender', 'quantum'],\n",
       "  'cat-2': ['potentials', 'recent']},\n",
       " {'key': '42MPM83Y',\n",
       "  'date': '2024-01-09',\n",
       "  'creatorSummary': 'Slobodkin et al.',\n",
       "  'cat-1': ['water', 'Green'],\n",
       "  'cat-2': ['system']}]"
      ]
     },
     "execution_count": 23,
     "metadata": {},
     "output_type": "execute_result"
    }
   ],
   "source": [
    "table = zq.tabulate_coding_summary(\n",
    "    zotero, all_annotations, document_fields=document_fields, annotation_fields=annotation_fields\n",
    ")\n",
    "table"
   ]
  },
  {
   "cell_type": "code",
   "execution_count": 24,
   "metadata": {},
   "outputs": [
    {
     "data": {
      "text/html": [
       "<div>\n",
       "<style scoped>\n",
       "    .dataframe tbody tr th:only-of-type {\n",
       "        vertical-align: middle;\n",
       "    }\n",
       "\n",
       "    .dataframe tbody tr th {\n",
       "        vertical-align: top;\n",
       "    }\n",
       "\n",
       "    .dataframe thead th {\n",
       "        text-align: right;\n",
       "    }\n",
       "</style>\n",
       "<table border=\"1\" class=\"dataframe\">\n",
       "  <thead>\n",
       "    <tr style=\"text-align: right;\">\n",
       "      <th></th>\n",
       "      <th>key</th>\n",
       "      <th>date</th>\n",
       "      <th>creatorSummary</th>\n",
       "      <th>cat-1</th>\n",
       "      <th>cat-2</th>\n",
       "    </tr>\n",
       "  </thead>\n",
       "  <tbody>\n",
       "    <tr>\n",
       "      <th>0</th>\n",
       "      <td>LGIJZVXC</td>\n",
       "      <td>2024-01-09</td>\n",
       "      <td>Fritzsche et al.</td>\n",
       "      <td>[Bender, quantum]</td>\n",
       "      <td>[potentials, recent]</td>\n",
       "    </tr>\n",
       "    <tr>\n",
       "      <th>1</th>\n",
       "      <td>42MPM83Y</td>\n",
       "      <td>2024-01-09</td>\n",
       "      <td>Slobodkin et al.</td>\n",
       "      <td>[water, Green]</td>\n",
       "      <td>[system]</td>\n",
       "    </tr>\n",
       "  </tbody>\n",
       "</table>\n",
       "</div>"
      ],
      "text/plain": [
       "        key        date    creatorSummary              cat-1  \\\n",
       "0  LGIJZVXC  2024-01-09  Fritzsche et al.  [Bender, quantum]   \n",
       "1  42MPM83Y  2024-01-09  Slobodkin et al.     [water, Green]   \n",
       "\n",
       "                  cat-2  \n",
       "0  [potentials, recent]  \n",
       "1              [system]  "
      ]
     },
     "execution_count": 24,
     "metadata": {},
     "output_type": "execute_result"
    }
   ],
   "source": [
    "df = zq.tabulate_coding_summary_dataframe(\n",
    "    zotero, all_annotations, document_fields=document_fields, annotation_fields=annotation_fields\n",
    ")\n",
    "df"
   ]
  }
 ],
 "metadata": {
  "kernelspec": {
   "display_name": "Python 3",
   "language": "python",
   "name": "python3"
  },
  "language_info": {
   "codemirror_mode": {
    "name": "ipython",
    "version": 3
   },
   "file_extension": ".py",
   "mimetype": "text/x-python",
   "name": "python",
   "nbconvert_exporter": "python",
   "pygments_lexer": "ipython3",
   "version": "3.11.5"
  }
 },
 "nbformat": 4,
 "nbformat_minor": 2
}
